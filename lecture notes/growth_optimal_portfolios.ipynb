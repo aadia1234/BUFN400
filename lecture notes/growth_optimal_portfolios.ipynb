{
 "cells": [
  {
   "cell_type": "markdown",
   "metadata": {},
   "source": [
    "# Lecture Note: Growth-Optimal Portfolio\n",
    "\n",
    "## By Albert S. (Pete) Kyle\n",
    "\n",
    "## BUFN400 Fall 2024---University of Maryland \n",
    " \n",
    "$\\def \\sm {} \\renewcommand{\\sm}{ {\\scriptstyle{\\text{*}}}}$ \n",
    "$\\def \\mm {} \\renewcommand{\\mm}{{\\scriptsize @}}$\n",
    "$\\def \\E {} \\renewcommand{\\E}{\\mathrm{E}}$\n",
    "$\\def \\e {} \\renewcommand{\\e}{\\mathrm{e}}$\n",
    "$\\def \\drm {} \\renewcommand{\\drm}{\\mathrm{\\, d}}$\n",
    "$\\def \\var {} \\renewcommand{\\var}{\\mathrm{var}}$\n",
    "$\\def \\cov {} \\renewcommand{\\cov}{\\mathrm{cov}}$\n",
    "$\\def \\corr {} \\renewcommand{\\corr}{\\mathrm{corr}}$\n",
    "$\\def \\stdev {} \\renewcommand{\\stdev}{\\mathrm{stdev}}$\n",
    "$\\def \\t {} \\renewcommand{\\t}{^{\\mathsf{T}}}$\n",
    "$\\def \\comma {} \\renewcommand{\\comma}{\\, , \\,}$\n",
    "$\\def \\vec {} \\renewcommand{\\vec}[1]{\\mathbf{#1}}$\n",
    "$\\def \\skew {} \\renewcommand{\\skew}{\\mathrm{skew}}$\n",
    "$\\def \\kurt {} \\renewcommand{\\kurt}{\\mathrm{kurt}}$\n",
    "$\\def \\prob {} \\renewcommand{\\prob}{\\textrm{prob}}$\n",
    "$\\def \\midx {} \\renewcommand{\\midx}{\\, \\mid \\,}$\n"
   ]
  },
  {
   "cell_type": "markdown",
   "metadata": {},
   "source": [
    "### Introduction\n",
    "\n",
    "Geometric Brownian motion has some properties which are often a source of confusion among researchers and practitioners.\n",
    "\n",
    "This lecture reviews these issues."
   ]
  },
  {
   "cell_type": "markdown",
   "metadata": {},
   "source": [
    "### Mean and Median Returns\n",
    "\n",
    "Consider an investment which follows a **random walk** (idendically and independently returns) with two possible outcomes:\n",
    "\n",
    "1. With probability 50 percent, the investment doubles in value (1 dollar grows to 2 dollars).\n",
    "\n",
    "2. With probability 50 percent, the investment halves in value (1 dollar shrinks to 0.50 dollars).\n",
    "\n",
    "Obviously, the expected gross return is $0.50 * 2.00 + 0.50 * 0.50 = 1.25$, so one dollar is expected to grow to 1.25 dollars. The expected net return is $0.50 * 2.00 + 0.50 * 0.50 - 1.00 = 0.25 = 25 \\text{ percent}$.\n",
    "\n",
    "Although the expected net return is 25 percent, the \"effective median\" return is 0 percent since doubling and halving converts one dollar into one dollar. More precisely, if the investment is held for an even number of time periods, the median return is exactly 0 percent.\n",
    "\n",
    "If an investor holds this investment for many periods, approximately half of the sample paths will have an internal rate of return less than zero and approximately half of the sample paths wil have an internal rate of return greater than zero. This occurs because there will more good periods than bad periods about half the time, and vice versa.  There is also the borderline case where the number of good outcomes is exactly the same as the number of bad outcomes.  This is the theoretical median outcome.\n",
    "\n",
    "Here is the puzzle: Although the expected return is 25 percent per year, half of all sample paths have an actual return less than zero, even if the investment is held for many periods.\n"
   ]
  },
  {
   "cell_type": "markdown",
   "metadata": {},
   "source": [
    "### Mathematical explanation for the puzzle\n",
    "\n",
    "The mathematical explanation for the puzzle is related to the $\\sigma^2 / 2$ term that must be subtracted from the mean when simulating a Brownian motion which will be converted into a geometric Brownian by the exponentiation. The convexity of the $\\exp$ function makes the median different from the mean (due to Jensen's inequality).\n",
    "\n",
    "Although the two-outcome example is not geometric Brownian motion, the adjustment is approximately the same as $\\sigma^2 / 2$:\n"
   ]
  },
  {
   "cell_type": "code",
   "execution_count": 1,
   "metadata": {},
   "outputs": [
    {
     "name": "stdout",
     "output_type": "stream",
     "text": [
      "arithmetic_mean=1.25\n",
      " geometric_mean=1.0000000000000002\n",
      "approximation: arithmetic_variance_adjustment=0.28125\n",
      "correct: log_variance_adjustment=0.2402265069591007\n"
     ]
    }
   ],
   "source": [
    "import numpy as np\n",
    "\n",
    "probs = np.array([1.00, 1.00])\n",
    "probs = probs / probs.sum()\n",
    "\n",
    "rets = np.array([2.00, 0.50])\n",
    "arithmetic_mean = probs.dot(rets)\n",
    "arithmetic_variance = probs.dot(rets**2) - arithmetic_mean**2\n",
    "arithmetic_variance_adjustment = 0.50 * arithmetic_variance\n",
    "\n",
    "geometric_mean = (rets**probs).prod()\n",
    "log_mean = probs.dot(np.log(rets))\n",
    "log_variance = probs.dot(np.log(rets)**2) - log_mean**2\n",
    "log_variance_adjustment = 0.50 * log_variance\n",
    "\n",
    "print(f\"{arithmetic_mean=}\\n {geometric_mean=}\")\n",
    "print(f\"approximation: {arithmetic_variance_adjustment=}\\ncorrect: {log_variance_adjustment=}\")\n",
    "\n"
   ]
  },
  {
   "cell_type": "markdown",
   "metadata": {},
   "source": [
    "### Intuitive explanation for the puzzle\n",
    "\n",
    "An intuitive explanation for the puzzle is that most of the expected value of returns over multiple periods comes from the right tail of the distribution (i.e., the ones with the largest number of \"good\" outcomes).\n",
    "\n",
    "The distribution of compounded returns over many periods is skewed to the right.\n",
    "\n",
    "Consider what happens if returns are $n$ sample paths are simulated for $m$ periods:\n",
    "\n"
   ]
  },
  {
   "cell_type": "code",
   "execution_count": 3,
   "metadata": {},
   "outputs": [
    {
     "name": "stdout",
     "output_type": "stream",
     "text": [
      "[[0.5 2.  0.5 2.  2.  2.  2.  2.  0.5 2.  2.  0.5 0.5 0.5 0.5 0.5 0.5 2.\n",
      "  2.  0.5]\n",
      " [2.  0.5 0.5 0.5 2.  0.5 2.  0.5 2.  2.  0.5 2.  0.5 0.5 2.  0.5 2.  0.5\n",
      "  2.  2. ]]\n",
      "A fraction 0.6718453572603227 of returns comes from the top 10 of 1000 returns.\n"
     ]
    }
   ],
   "source": [
    "n = 1000\n",
    "ntop = 10\n",
    "\n",
    "m = 20\n",
    "\n",
    "up = 2.00\n",
    "down = 0.50\n",
    "prob = 0.50\n",
    "\n",
    "rng = np.random.default_rng(1234)\n",
    "\n",
    "#rets = rng.random((n, m))\n",
    "#rets = up * (rets > prob) + down * (rets <= (1 - prob))\n",
    "\n",
    "rets = rng.choice([up, down], (n, m), p=[prob, 1.00 - prob])\n",
    "\n",
    "print(rets[0:2, :])\n",
    "\n",
    "cum_rets = rets.prod(axis=1)\n",
    "cum_rets.sort()\n",
    "cum_rets = cum_rets[::-1]\n",
    "\n",
    "# print(cum_rets)\n",
    "\n",
    "# Percent of value from ntop returns:\n",
    "frac_from_best = cum_rets[:ntop].sum() / cum_rets.sum()\n",
    "\n",
    "print(f\"A fraction {frac_from_best} of returns comes from the top {ntop} of {n} returns.\")\n",
    "\n"
   ]
  },
  {
   "cell_type": "markdown",
   "metadata": {},
   "source": [
    "The example in the cell above shows that, when held for 20 periods, over half the expected value comes from the top one percent of returns.\n",
    "\n",
    "This result has practical implications.  Consider the portfolio of a venture capital fund, which invests in many companies whose value approximately doubles or halves each year. As time passes, most of the value of the investments in the fund becomes concentrated in the small fraction of investments which have performed well."
   ]
  },
  {
   "cell_type": "markdown",
   "metadata": {},
   "source": [
    "### Limit of geometric Brownian motion\n",
    "\n",
    "As the number of periods $m$ becomes very large, almost all of the expected value comes from a very small percentage of the good outcomes.\n",
    "\n",
    "A related fact: If a geometric Brownian motion has a mean of 1 (i.e., expected return of zero), probablity of obtaining an outcome close to zero (i.e., expected return close to $-100$ percent) goes to one as the number of periods goes to infinity."
   ]
  },
  {
   "cell_type": "markdown",
   "metadata": {},
   "source": [
    "### Problem 1\n",
    "\n",
    "1. Play with the parameter values in the example to verify that value becomes concentrated in the good tail of the distribution.\n",
    "\n",
    "2. Verify that the outcomes of geometric Brownian motion become small (relative to the mean) with high probability when the variance becomes large."
   ]
  },
  {
   "cell_type": "markdown",
   "metadata": {},
   "source": [
    "### Practical implications\n",
    "\n",
    "These simple facts about random walks or geometric Brownian motion have numerous practical implications.\n",
    "\n",
    "1.  Some people say, \"Due to the way in which venture capitalists invest, most of the returns from a venture capital fund come from a few good investments.\" This statement is a simple consequence of the properties of geometric Brownian motion. Venture capital investments have very high variance, sometimes approximately 100 percent per year. Returns also have a shape not too different from a lognormal.  Therefore the statement is simply a property of the high variance of the approximately lognormal investment.  It depends on nothing else which is specific to venture capital.\n",
    "\n",
    "2. Some people say, \"Hedge funds offer risky returns, but most of them underperform their benchmark over time. Therefore, hedge funds are bad investments.\" This statement may be incorrect or misleading in several respects. First, most hedge funds have relatively low volatilities of 10-15 percent per year. Second, if hedge funds did have high volatility and returns approximated geometric Brownian motion, then most hedge funds would underperform over time (by half their variance, i.e., 50 basis points per year for a hedge fund with 10 percent annual volatility), even if the hedge funds did match or exceed their benchmarks on average.\n",
    "\n",
    "3. Some people say, \"Long term internal rate of return is a good statistic for estimating long-term mean returns\".  This statement is false because the long-term IRR measures the mean of the log returns, not mean returns.  It is lower than the actual mean by half the variance if returns follow geometric Brownian motion.\n",
    "\n",
    "4. Some people say, \"If a portfolio has good mean returns and you invest with more leverage (e.g., 60 percent, 100 percent, 200 percent, exposure to the asset), then your investment will have better performance in the long run.\"  This statement is false.  We will explain why next.\n"
   ]
  },
  {
   "cell_type": "markdown",
   "metadata": {},
   "source": [
    "### Internal rate of return \n",
    "\n",
    "Consider a log random-walk with gross returns $R = (R_1, R_2, ..., R_T)$, and cumulative returns $(P = P_1, P_2, ..., P_T)$ obtained from the cumulative product of gross returns $P_t = R_1 \\sm R_2 \\sm \\sm \\sm R_t$. Assume the gross returns $R_t$ are lognormally distributed random variables of the form $R_t = \\e^{r_t}$, where $r_t$ is distributed $\\mathcal{N}(\\bar{r}, \\sigma^2)$. The mean return is $\\bar{R} = \\e^{\\bar{r} + \\sigma^2 / 2}$.\n",
    "\n",
    "The **gross internal rate of return**, which is defined as $P_T^{1/T}$, is the **geometric mean** of the individual gross returns $R_t$:\n",
    "\n",
    "\\begin{align}\n",
    "P_T^{1/T} &= \\exp \\left( \\frac{1}{T} \\sm \\log P_T \\right) \\\\\n",
    "&= \\exp  \\left( \\frac{1}{T} \\sm \\sum_t \\log R_t \\right) \\\\\n",
    "&= \\exp  \\left( \\frac{1}{T} \\sm \\sum_t r_t \\right). \n",
    "\\end{align}\n",
    "\n",
    "If one dollar is invested with a constant rate of return equal to the gross internal rate of return, it grows to the same value $P_T$ over $T$ periods as the actual risky investment. The gross internal rate of return is a random variable which depends on the actual random gross returns $R = (R_1, R_2, ..., R_T)$.\n",
    "\n",
    "The **net (log) internal rate of return** is the log of the gross internal rate of return:\n",
    "\n",
    "\\begin{align}\n",
    "\\log \\left( P_T^{1/T} \\right) &= \\frac{1}{T} \\sm \\sum_t r_t . \n",
    "\\end{align}\n",
    "\n",
    "Thus, the (log) net internal rate of return is the sample mean of the log returns $r_t$.\n",
    "\n",
    "Now consider the difference between the expectation of the log of the internal rate of return and the log of the expected internal rate of return.\n",
    "\n",
    "The log of the expected internal rate of return is\n",
    "\n",
    "\\begin{align}\n",
    "\\log \\left( \\E \\left[ P_T^{1/T} \\right) \\right] \n",
    "&= \\log \\left( \\E \\left[ \\exp  \\left( \\frac{1}{T} \\sm \\sum_t r_t \\right) \\right] \\right). \n",
    "\\end{align}\n",
    "\n",
    "Now $\\frac{1}{T} \\sm \\sum_t r_t$ is distributed $\\mathcal{N}(\\bar{r}, \\sigma^2 / T)$, so $\\E \\left[ \\exp  \\left( \\frac{1}{T} \\sm \\sum_t r_t \\right) \\right] = \\exp ( \\bar{r} + \\tfrac{1}{2} \\sm \\sigma^2 / T )$ .\n",
    "\n",
    "Therefore, the log of the expected internal rate of return is\n",
    "\n",
    "\\begin{align}\n",
    "\\log \\left( \\E \\left[ P_T^{1/T} \\right) \\right] \n",
    "&= \\log \\left( \\exp ( \\bar{r} + \\tfrac{1}{2} \\sm \\sigma^2 / T ) \\right) \\\\\n",
    "&= \\bar{r} + \\tfrac{1}{2} \\sm \\sigma^2 / T \\\\ \n",
    "\\end{align}\n",
    "\n",
    "The log of the expected internal rate of return is the log of the expected gross internal rate of return."
   ]
  },
  {
   "cell_type": "markdown",
   "metadata": {},
   "source": [
    "### Problem 2\n",
    "\n",
    "Explain with more detail why the investor with a short position trades in a destabilizing manner."
   ]
  },
  {
   "cell_type": "markdown",
   "metadata": {},
   "source": [
    "### Dynamic Trading Strategies\n",
    "\n",
    "Now suppose that in investor invests a fraction $x$ of wealth in the risky asset and fraction $1-x$ in a safe asset with gross return $R_f$. Suppose the annualized expected gross return of the risky asset is expressed as $R_f + \\pi$, and the annualized log variance is approximately $\\sigma^2$. The continuously compounded expected return of the portfolio is $r_f + x \\sm \\pi$ (and the expected return, not compounded, is $R_f\\sm \\mathrm{e}^\\pi$), and the log-variance is $x^2 \\sm \\sigma^2$.\n",
    "\n",
    "Now there are some theoretical and practical issues concerned with implementing such an investment strategy over time. \n",
    "\n",
    "1. If $ x = 0$, the investor fully invested in the risk-free asset and does not need to trade.\n",
    "\n",
    "2. If $x = 1$, the investor is fully invested in the risky asset and does not need to trade.\n",
    "\n",
    "3. if $0 < x < 1$, the investor needs to rebalance the portfolio over time.  At the end of each period, the investor holds a fraction greater than $x$ in the risky asset if its return was greater than the risk-free asset and holds a fraction less than $x$ is its return was less than the risk-free asset.  Therefore, to maintain the target fraction $x$, the investor needs to engage in a dynamic trading strategy of selling the risky asset when its price rises and buying the risky asset when its price falls. This strategy is **stabilizing** in the sense that its price impact goes against market movement.\n",
    "\n",
    "4. If $x > 1$, the investor borrows at the risk-free rate to invest more than 100 percent of wealth in the risky asset. We can think of the borrowing as taking place in a margin account. Now the investor still needs to rebalance the portfolio over time, but the rebalancing strategy becomes destabilizing.  At the end of each period, the investor holds a fraction less than $x$ in the risky asset if its return was greater than the risk-free asset and holds a fraction more than $x$ is its return was less than the risk-free asset.  Therefore, to maintain the target fraction $x$, the investor needs to engage in a dynamic trading strategy of buying the risky asset when its price rises and selling the risky asset when its price falls. This strategy is **destabilizing** in the sense that its price impact amplifies market movement.\n",
    "\n",
    "5. If $x < 0$, the investor borrows the asset to sell it short and has more than 100 percent of wealth ($1 - x$, with $x$ negative)at the risk-free rate. Now the investor still needs to rebalance the portfolio over time, but the rebalancing strategy remains destabilizing, like the leveraged long investor with $x > 1$.  Therefore, to maintain the target fraction $x$, the investor needs to engage in a dynamic trading strategy of buying the risky asset when its price rises and selling the risky asset when its price falls. This strategy is **destabilizing** in the sense that its price impact amplifies market movement.\n",
    "\n",
    "If the the time interval representated by period is very short, then the investor can be viewed as almost rebalancing continuously.  If the time interval is long, the the investor rebalances infrequently. Theoretically, this allows bad things to happen if the investor is leveraged long ($x > 1$) or short ($x < 0$). \n",
    "\n",
    "1. If the price falls more than 50 percent (relative to the risk-free asset) in one period, then a leveraged long investor with $x > 2$ is wiped out; he should have sold as prices fell to meet margin calls but did not do so.  \n",
    "\n",
    "2. If the price rises more than 100 percent (relative to the risk-free asset) in one period, the an short investor with $x < -1$ is also wiped out; he should have bought back his short position as prices fell but did not do so.\n",
    "\n",
    "In practical market conditions, investors do not rebalance continuously to avoide trading costs, including temporary market impact from buying or selling large amount quickly.  Large investors therefore smooth their trading out over time. If the smoothing takes place over a time period which is too long, then the investor needs to pay attention to his ability to meet margin calls."
   ]
  },
  {
   "cell_type": "markdown",
   "metadata": {},
   "source": [
    "### Practical  Examples\n",
    "\n",
    "There are examples of temporary market dislocation are related to the speed with which large investors rebalance portfolios.\n",
    "\n",
    "1. In the 1987 stock market crash, portfolio insurers had changing target portfolios which involved selling when prices fell. When prices did fall, their selling seems to have exacerbated the collapse in prices and amplified the market crash.  I think it converted a decline of a 2--3 percent into a decline of 30 percent.\n",
    "\n",
    "2. The collapse of Archegos Capital may be related to temporary price impact making it impossible to liquidate gigantice positions quickly enough to avoid collapse."
   ]
  },
  {
   "cell_type": "markdown",
   "metadata": {},
   "source": [
    "### Growth optimal portfolio\n",
    "\n",
    "Now let us suppose that the time period between rebalancings and the temporary market impact of rebalancing are both small enough that the investor can be approximately assumed to trade continuously. Over a long period of time, the asset approximately follows geometric Brownian. Recall that the expected return of the portfolio is $R_f + x \\sm \\pi$, and the variance is $x^2 \\sm \\sigma^2$. The expected log return (long-run IRR) is $R_f + x \\sm \\pi - \\tfrac{1}{2} \\sm x^2 \\sm \\sigma^2$.\n",
    "\n",
    "Now suppose that the investor has the objective of achieving the highest possible internal rate of return. The investor choose $x$ to maximize\n",
    "\n",
    "$$\n",
    "R_f + x \\sm \\pi - \\tfrac{1}{2} \\sm x^2 \\sm \\sigma^2.\n",
    "$$\n",
    "\n",
    "Obviously, the first-order condition for this optimization problem is\n",
    "\n",
    "$$\n",
    "x \\sm \\sigma^2 = \\pi\n",
    "$$\n",
    "\n",
    "This implies the demand function\n",
    "\n",
    "$$\n",
    "x = \\frac{\\pi}{\\sigma^2}.\n",
    "$$\n",
    "\n",
    "Intuitively, the investor chooses $x$ to balance a tradeoff between risk $\\sigma^2$ and return $\\pi$. \n",
    "\n",
    "Intitively, the investor also chooses between sacrificing expected return if $x$ is too small while avoiding \"blowing up\" if $x$ is too large. Investors who are too highly leveraged will suffer gigantic drawdowns which make their achieved IRR low, even if their expected return (overwhelmingly coming from a small number \"best\" paths) is high."
   ]
  },
  {
   "cell_type": "markdown",
   "metadata": {},
   "source": [
    "### Sharpe ratio and volatility\n",
    "\n",
    "The Sharpe ratio is defined as $\\pi / \\sigma$.  We can write the optimal demand as\n",
    "\n",
    "$$\n",
    "x \\sm \\sigma = \\frac{\\pi}{\\sigma}.\n",
    "$$\n",
    "\n",
    "In this equation, the left side is the volatility of the portfolio.  The right side is the Sharpe ratio. Our result says that an investor maximizing long-term IRR chooses portfolio volatility to equal the Sharpe ratio.\n",
    "\n"
   ]
  },
  {
   "cell_type": "markdown",
   "metadata": {},
   "source": [
    "### Practical considerations\n",
    "\n",
    "In practice, the investor's estimate of mean and variance will change over time. If so, the investor maximizing long-run IRR continues to engage in the short-run growth optimal strategy, choosing portfolio volatility to equal the Sharpe ratio, while adjusting the portfolio volatility over time.\n",
    "\n",
    "This is a surprizing result which confuses investors, researchers, and politicians. Many people have the intuition that financial investors ignore long-run returns when they focus on short-term returns. The dynamic growth optimal portfolio result shows that this intuition is wrong. An investor who maximizes long-run IRR does indeed focus on the short-term risk-return tradeoff."
   ]
  },
  {
   "cell_type": "markdown",
   "metadata": {},
   "source": [
    "### Risk aversion\n",
    "\n",
    "A simplistic, intuitive way to generalize the demand function is to introduce a **risk aversion parameter** $\\rho$, then write the demand function as\n",
    "\n",
    "$$\n",
    "x = \\frac{\\pi}{\\rho \\sm \\sigma^2}.\n",
    "$$\n",
    "\n",
    "If $\\rho = 1$, the solution is the growth-optimal portfolio. Finance researchers call this solution the solution for a **log utility** investor. If $\\rho > 1$, the investor is **more risk averse than log** and holds a more conservative portfolio.  If $\\rho > 1$, the investor is **less risk averse than log** and holds a portfolio riskier than the growth-optimal portfolio.\n",
    "\n",
    "There is a large finance research literature which deals with this problem.  The above equation can be thought of as a reasonable approximation to the solution, not the exact solution.\n",
    "\n",
    "One issue concerns what happens when $\\pi$ is negative and the investor wants to go short.  Mathematically, the demand says the standard deviation is negative.  While this does not make sense mathematically, it does capture correctly the finance intuition that the investor has negative exposure to the risky asset.  It can be shown that what really matters is the **squared Sharpe ratio**."
   ]
  },
  {
   "cell_type": "markdown",
   "metadata": {},
   "source": [
    "`"
   ]
  },
  {
   "cell_type": "markdown",
   "metadata": {},
   "source": [
    "### Notes for future revisions\n",
    "\n",
    "1. Random Walk\n",
    "\n",
    "2. Constant investment opportunity set.\n",
    "\n",
    "3. Log utility\n",
    "\n",
    "4. Growth-optimal portfolio\n",
    "\n",
    "5. Bootstrapping"
   ]
  },
  {
   "cell_type": "code",
   "execution_count": null,
   "metadata": {},
   "outputs": [],
   "source": []
  }
 ],
 "metadata": {
  "kernelspec": {
   "display_name": "a202402f",
   "language": "python",
   "name": "python3"
  },
  "language_info": {
   "codemirror_mode": {
    "name": "ipython",
    "version": 3
   },
   "file_extension": ".py",
   "mimetype": "text/x-python",
   "name": "python",
   "nbconvert_exporter": "python",
   "pygments_lexer": "ipython3",
   "version": "3.11.8"
  }
 },
 "nbformat": 4,
 "nbformat_minor": 4
}
